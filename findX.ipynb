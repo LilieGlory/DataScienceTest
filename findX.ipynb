{
 "cells": [
  {
   "cell_type": "code",
   "execution_count": 1,
   "metadata": {},
   "outputs": [],
   "source": [
    "import pandas as pd\n",
    "import re\n",
    "import numpy as np"
   ]
  },
  {
   "cell_type": "code",
   "execution_count": 2,
   "metadata": {},
   "outputs": [],
   "source": [
    "data = pd.read_csv(\"FindXWithRegex/Worldometers_data.csv\")"
   ]
  },
  {
   "cell_type": "code",
   "execution_count": 3,
   "metadata": {
    "scrolled": true
   },
   "outputs": [
    {
     "data": {
      "text/html": [
       "<div>\n",
       "<style scoped>\n",
       "    .dataframe tbody tr th:only-of-type {\n",
       "        vertical-align: middle;\n",
       "    }\n",
       "\n",
       "    .dataframe tbody tr th {\n",
       "        vertical-align: top;\n",
       "    }\n",
       "\n",
       "    .dataframe thead th {\n",
       "        text-align: right;\n",
       "    }\n",
       "</style>\n",
       "<table border=\"1\" class=\"dataframe\">\n",
       "  <thead>\n",
       "    <tr style=\"text-align: right;\">\n",
       "      <th></th>\n",
       "      <th>Country</th>\n",
       "      <th>Total_Cases</th>\n",
       "      <th>New_Cases</th>\n",
       "      <th>Total_Deaths</th>\n",
       "      <th>New_Deaths</th>\n",
       "      <th>Recovered</th>\n",
       "      <th>Active</th>\n",
       "      <th>Serious_Critical</th>\n",
       "      <th>Tot Cases/1M pop</th>\n",
       "      <th>Deaths/1 M pop</th>\n",
       "      <th>Tests</th>\n",
       "      <th>Tests/1Mpop</th>\n",
       "    </tr>\n",
       "  </thead>\n",
       "  <tbody>\n",
       "    <tr>\n",
       "      <th>0</th>\n",
       "      <td>USA</td>\n",
       "      <td>455,081</td>\n",
       "      <td>20,154</td>\n",
       "      <td>16,094</td>\n",
       "      <td>1,306</td>\n",
       "      <td>24,562</td>\n",
       "      <td>414,425</td>\n",
       "      <td>9,733</td>\n",
       "      <td>1,375</td>\n",
       "      <td>49</td>\n",
       "      <td>2,309,531</td>\n",
       "      <td>6,977</td>\n",
       "    </tr>\n",
       "    <tr>\n",
       "      <th>1</th>\n",
       "      <td>Spain</td>\n",
       "      <td>152,446</td>\n",
       "      <td>4,226</td>\n",
       "      <td>15,238</td>\n",
       "      <td>446</td>\n",
       "      <td>52,165</td>\n",
       "      <td>85,043</td>\n",
       "      <td>7,371</td>\n",
       "      <td>3,261</td>\n",
       "      <td>326</td>\n",
       "      <td>355,000</td>\n",
       "      <td>7,593</td>\n",
       "    </tr>\n",
       "    <tr>\n",
       "      <th>2</th>\n",
       "      <td>Italy</td>\n",
       "      <td>143,626</td>\n",
       "      <td>4,204</td>\n",
       "      <td>18,279</td>\n",
       "      <td>610</td>\n",
       "      <td>28,470</td>\n",
       "      <td>96,877</td>\n",
       "      <td>3,605</td>\n",
       "      <td>2,375</td>\n",
       "      <td>302</td>\n",
       "      <td>853,369</td>\n",
       "      <td>14,114</td>\n",
       "    </tr>\n",
       "    <tr>\n",
       "      <th>3</th>\n",
       "      <td>France</td>\n",
       "      <td>117,749</td>\n",
       "      <td>4,799</td>\n",
       "      <td>12,210</td>\n",
       "      <td>1,341</td>\n",
       "      <td>23,206</td>\n",
       "      <td>82,333</td>\n",
       "      <td>7,066</td>\n",
       "      <td>1,804</td>\n",
       "      <td>187</td>\n",
       "      <td>224,254</td>\n",
       "      <td>3,436</td>\n",
       "    </tr>\n",
       "    <tr>\n",
       "      <th>4</th>\n",
       "      <td>Germany</td>\n",
       "      <td>115,523</td>\n",
       "      <td>2,227</td>\n",
       "      <td>2,451</td>\n",
       "      <td>102</td>\n",
       "      <td>46,300</td>\n",
       "      <td>66,772</td>\n",
       "      <td>4,895</td>\n",
       "      <td>1,379</td>\n",
       "      <td>29</td>\n",
       "      <td>1,317,887</td>\n",
       "      <td>15,730</td>\n",
       "    </tr>\n",
       "    <tr>\n",
       "      <th>...</th>\n",
       "      <td>...</td>\n",
       "      <td>...</td>\n",
       "      <td>...</td>\n",
       "      <td>...</td>\n",
       "      <td>...</td>\n",
       "      <td>...</td>\n",
       "      <td>...</td>\n",
       "      <td>...</td>\n",
       "      <td>...</td>\n",
       "      <td>...</td>\n",
       "      <td>...</td>\n",
       "      <td>...</td>\n",
       "    </tr>\n",
       "    <tr>\n",
       "      <th>206</th>\n",
       "      <td>South Sudan</td>\n",
       "      <td>3</td>\n",
       "      <td>1</td>\n",
       "      <td>NaN</td>\n",
       "      <td>NaN</td>\n",
       "      <td>NaN</td>\n",
       "      <td>3</td>\n",
       "      <td>NaN</td>\n",
       "      <td>0.3</td>\n",
       "      <td>NaN</td>\n",
       "      <td>NaN</td>\n",
       "      <td>NaN</td>\n",
       "    </tr>\n",
       "    <tr>\n",
       "      <th>207</th>\n",
       "      <td>Caribbean Netherlands</td>\n",
       "      <td>2</td>\n",
       "      <td>NaN</td>\n",
       "      <td>NaN</td>\n",
       "      <td>NaN</td>\n",
       "      <td>NaN</td>\n",
       "      <td>2</td>\n",
       "      <td>NaN</td>\n",
       "      <td>76</td>\n",
       "      <td>NaN</td>\n",
       "      <td>10</td>\n",
       "      <td>381</td>\n",
       "    </tr>\n",
       "    <tr>\n",
       "      <th>208</th>\n",
       "      <td>Papua New Guinea</td>\n",
       "      <td>2</td>\n",
       "      <td>NaN</td>\n",
       "      <td>NaN</td>\n",
       "      <td>NaN</td>\n",
       "      <td>NaN</td>\n",
       "      <td>2</td>\n",
       "      <td>NaN</td>\n",
       "      <td>0.2</td>\n",
       "      <td>NaN</td>\n",
       "      <td>72</td>\n",
       "      <td>8</td>\n",
       "    </tr>\n",
       "    <tr>\n",
       "      <th>209</th>\n",
       "      <td>Saint Pierre Miquelon</td>\n",
       "      <td>1</td>\n",
       "      <td>NaN</td>\n",
       "      <td>NaN</td>\n",
       "      <td>NaN</td>\n",
       "      <td>NaN</td>\n",
       "      <td>1</td>\n",
       "      <td>NaN</td>\n",
       "      <td>173</td>\n",
       "      <td>NaN</td>\n",
       "      <td>NaN</td>\n",
       "      <td>NaN</td>\n",
       "    </tr>\n",
       "    <tr>\n",
       "      <th>210</th>\n",
       "      <td>Timor-Leste</td>\n",
       "      <td>1</td>\n",
       "      <td>NaN</td>\n",
       "      <td>NaN</td>\n",
       "      <td>NaN</td>\n",
       "      <td>NaN</td>\n",
       "      <td>1</td>\n",
       "      <td>NaN</td>\n",
       "      <td>0.8</td>\n",
       "      <td>NaN</td>\n",
       "      <td>NaN</td>\n",
       "      <td>NaN</td>\n",
       "    </tr>\n",
       "  </tbody>\n",
       "</table>\n",
       "<p>211 rows × 12 columns</p>\n",
       "</div>"
      ],
      "text/plain": [
       "                   Country Total_Cases New_Cases Total_Deaths New_Deaths  \\\n",
       "0                      USA     455,081    20,154       16,094      1,306   \n",
       "1                    Spain     152,446     4,226       15,238        446   \n",
       "2                    Italy     143,626     4,204       18,279        610   \n",
       "3                   France     117,749     4,799       12,210      1,341   \n",
       "4                  Germany     115,523     2,227        2,451        102   \n",
       "..                     ...         ...       ...          ...        ...   \n",
       "206            South Sudan           3         1          NaN        NaN   \n",
       "207  Caribbean Netherlands           2       NaN          NaN        NaN   \n",
       "208       Papua New Guinea           2       NaN          NaN        NaN   \n",
       "209  Saint Pierre Miquelon           1       NaN          NaN        NaN   \n",
       "210            Timor-Leste           1       NaN          NaN        NaN   \n",
       "\n",
       "    Recovered   Active Serious_Critical Tot Cases/1M pop Deaths/1 M pop  \\\n",
       "0      24,562  414,425            9,733            1,375             49   \n",
       "1      52,165   85,043            7,371            3,261            326   \n",
       "2      28,470   96,877            3,605            2,375            302   \n",
       "3      23,206   82,333            7,066            1,804            187   \n",
       "4      46,300   66,772            4,895            1,379             29   \n",
       "..        ...      ...              ...              ...            ...   \n",
       "206       NaN        3              NaN              0.3            NaN   \n",
       "207       NaN        2              NaN               76            NaN   \n",
       "208       NaN        2              NaN              0.2            NaN   \n",
       "209       NaN        1              NaN              173            NaN   \n",
       "210       NaN        1              NaN              0.8            NaN   \n",
       "\n",
       "         Tests Tests/1Mpop  \n",
       "0    2,309,531       6,977  \n",
       "1      355,000       7,593  \n",
       "2      853,369      14,114  \n",
       "3      224,254       3,436  \n",
       "4    1,317,887      15,730  \n",
       "..         ...         ...  \n",
       "206        NaN         NaN  \n",
       "207         10         381  \n",
       "208         72           8  \n",
       "209        NaN         NaN  \n",
       "210        NaN         NaN  \n",
       "\n",
       "[211 rows x 12 columns]"
      ]
     },
     "execution_count": 3,
     "metadata": {},
     "output_type": "execute_result"
    }
   ],
   "source": [
    "data"
   ]
  },
  {
   "cell_type": "code",
   "execution_count": null,
   "metadata": {},
   "outputs": [],
   "source": []
  },
  {
   "cell_type": "code",
   "execution_count": 4,
   "metadata": {},
   "outputs": [
    {
     "name": "stdout",
     "output_type": "stream",
     "text": [
      "<class 'pandas.core.frame.DataFrame'>\n",
      "RangeIndex: 211 entries, 0 to 210\n",
      "Data columns (total 12 columns):\n",
      " #   Column            Non-Null Count  Dtype \n",
      "---  ------            --------------  ----- \n",
      " 0   Country           211 non-null    object\n",
      " 1   Total_Cases       211 non-null    object\n",
      " 2   New_Cases         117 non-null    object\n",
      " 3   Total_Deaths      160 non-null    object\n",
      " 4   New_Deaths        71 non-null     object\n",
      " 5   Recovered         180 non-null    object\n",
      " 6   Active            211 non-null    object\n",
      " 7   Serious_Critical  127 non-null    object\n",
      " 8   Tot Cases/1M pop  209 non-null    object\n",
      " 9   Deaths/1 M pop    158 non-null    object\n",
      " 10  Tests             151 non-null    object\n",
      " 11  Tests/1Mpop       151 non-null    object\n",
      "dtypes: object(12)\n",
      "memory usage: 19.9+ KB\n"
     ]
    }
   ],
   "source": [
    "data.info()"
   ]
  },
  {
   "cell_type": "markdown",
   "metadata": {},
   "source": [
    "## Renommage de colonne"
   ]
  },
  {
   "cell_type": "code",
   "execution_count": 5,
   "metadata": {},
   "outputs": [
    {
     "data": {
      "text/plain": [
       "Index(['country', 'total_cases', 'new_cases', 'total_deaths', 'new_deaths',\n",
       "       'recovered', 'active', 'serious_critical', 'tot_cases_1m_pop',\n",
       "       'deaths_1_m_pop', 'tests', 'tests_1mpop'],\n",
       "      dtype='object')"
      ]
     },
     "execution_count": 5,
     "metadata": {},
     "output_type": "execute_result"
    }
   ],
   "source": [
    "data.columns = data.columns.str.replace(' ', '_')\n",
    "data.columns = data.columns.str.replace('\\xa0', '_')\n",
    "data.columns = data.columns.str.replace('/', '_')\n",
    "data.columns = data.columns.str.lower()\n",
    "data.columns"
   ]
  },
  {
   "cell_type": "code",
   "execution_count": null,
   "metadata": {},
   "outputs": [],
   "source": []
  },
  {
   "cell_type": "markdown",
   "metadata": {},
   "source": [
    "### Fonction qui remplace les Nan par 0"
   ]
  },
  {
   "cell_type": "code",
   "execution_count": 6,
   "metadata": {},
   "outputs": [],
   "source": [
    "#def replace_nan_with_zero(columns):\n",
    "#    columns = columns.fillna(0, inplace=True)"
   ]
  },
  {
   "cell_type": "markdown",
   "metadata": {},
   "source": [
    "### Fonction qui compte les nan dans une colonne"
   ]
  },
  {
   "cell_type": "code",
   "execution_count": 7,
   "metadata": {},
   "outputs": [],
   "source": [
    "def sum_nan_columns(columns):\n",
    "    print(\"Nan total : \",columns.isna().sum())"
   ]
  },
  {
   "cell_type": "markdown",
   "metadata": {},
   "source": [
    "## 1. total_cases colonne"
   ]
  },
  {
   "cell_type": "code",
   "execution_count": 8,
   "metadata": {},
   "outputs": [
    {
     "name": "stdout",
     "output_type": "stream",
     "text": [
      "Nan total :  0\n"
     ]
    }
   ],
   "source": [
    "sum_nan_columns(data.total_cases)"
   ]
  },
  {
   "cell_type": "code",
   "execution_count": 9,
   "metadata": {},
   "outputs": [
    {
     "data": {
      "text/plain": [
       "array(['455,081', '152,446', '143,626', '117,749', '115,523', '81,865',\n",
       "       '66,220', '60,733', '42,282', '24,983', '24,046', '21,762',\n",
       "       '20,690', '16,474', '13,956', '13,237', '10,423', '10,131',\n",
       "       '9,755', '9,141', '6,653', '6,574', '6,160', '6,104', '5,972',\n",
       "       '5,635', '5,575', '5,467', '5,202', '4,965', '4,667', '4,489',\n",
       "       '4,342', '4,228', '4,076', '3,293', '3,287', '3,181', '3,115',\n",
       "       '2,867', '2,659', '2,605', '2,528', '2,423', '2,376', '2,349',\n",
       "       '2,054', '1,955', '1,910', '1,892', '1,845', '1,795', '1,666',\n",
       "       '1,648', '1,560', '1,486', '1,407', '1,374', '1,289', '1,239',\n",
       "       '1,232', '1,207', '1,124', '980', '974', '955', '926', '921',\n",
       "       '910', '855', '850', '764', '730', '712', '701', '663', '643',\n",
       "       '618', '589', '583', '582', '564', '515', '502', '484', '457',\n",
       "       '456', '443', '409', '384', '380', '372', '362', '361', '343',\n",
       "       '342', '337', '330', '314', '313', '308', '280', '276', '264',\n",
       "       '263', '255', '252', '250', '218', '194', '190', '184', '180',\n",
       "       '167', '154', '141', '135', '124', '123', '119', '110', '109',\n",
       "       '103', '95', '93', '84', '83', '82', '78', '74', '73', '63', '60',\n",
       "       '56', '53', '51', '45', '43', '40', '39', '37', '36', '34', '33',\n",
       "       '32', '31', '30', '26', '25', '23', '21', '19', '18', '17', '16',\n",
       "       '15', '14', '13', '12', '11', '10', '9', '8', '7', '6', '5', '4',\n",
       "       '3', '2', '1'], dtype=object)"
      ]
     },
     "execution_count": 9,
     "metadata": {},
     "output_type": "execute_result"
    }
   ],
   "source": [
    "data.total_cases.unique()"
   ]
  },
  {
   "cell_type": "code",
   "execution_count": 10,
   "metadata": {},
   "outputs": [],
   "source": [
    "data['total_cases'] = data['total_cases'].str.replace(',', '', regex=True).astype('int')"
   ]
  },
  {
   "cell_type": "code",
   "execution_count": 11,
   "metadata": {},
   "outputs": [
    {
     "data": {
      "text/plain": [
       "array([455081, 152446, 143626, 117749, 115523,  81865,  66220,  60733,\n",
       "        42282,  24983,  24046,  21762,  20690,  16474,  13956,  13237,\n",
       "        10423,  10131,   9755,   9141,   6653,   6574,   6160,   6104,\n",
       "         5972,   5635,   5575,   5467,   5202,   4965,   4667,   4489,\n",
       "         4342,   4228,   4076,   3293,   3287,   3181,   3115,   2867,\n",
       "         2659,   2605,   2528,   2423,   2376,   2349,   2054,   1955,\n",
       "         1910,   1892,   1845,   1795,   1666,   1648,   1560,   1486,\n",
       "         1407,   1374,   1289,   1239,   1232,   1207,   1124,    980,\n",
       "          974,    955,    926,    921,    910,    855,    850,    764,\n",
       "          730,    712,    701,    663,    643,    618,    589,    583,\n",
       "          582,    564,    515,    502,    484,    457,    456,    443,\n",
       "          409,    384,    380,    372,    362,    361,    343,    342,\n",
       "          337,    330,    314,    313,    308,    280,    276,    264,\n",
       "          263,    255,    252,    250,    218,    194,    190,    184,\n",
       "          180,    167,    154,    141,    135,    124,    123,    119,\n",
       "          110,    109,    103,     95,     93,     84,     83,     82,\n",
       "           78,     74,     73,     63,     60,     56,     53,     51,\n",
       "           45,     43,     40,     39,     37,     36,     34,     33,\n",
       "           32,     31,     30,     26,     25,     23,     21,     19,\n",
       "           18,     17,     16,     15,     14,     13,     12,     11,\n",
       "           10,      9,      8,      7,      6,      5,      4,      3,\n",
       "            2,      1])"
      ]
     },
     "execution_count": 11,
     "metadata": {},
     "output_type": "execute_result"
    }
   ],
   "source": [
    "data.total_cases.unique()"
   ]
  },
  {
   "cell_type": "code",
   "execution_count": null,
   "metadata": {},
   "outputs": [],
   "source": []
  },
  {
   "cell_type": "markdown",
   "metadata": {},
   "source": [
    "## 2. new_cases"
   ]
  },
  {
   "cell_type": "code",
   "execution_count": 12,
   "metadata": {},
   "outputs": [
    {
     "data": {
      "text/plain": [
       "array(['20,154', '4,226', '4,204', '4,799', '2,227', '63', '1,634', nan,\n",
       "       '4,056', '1,580', '766', '1,213', '1,252', '286', '815', '295',\n",
       "       '39', '1,459', '351', '722', '737', '500', '118', '52', '426',\n",
       "       '233', '370', '155', '441', '515', '226', '109', '206', '337',\n",
       "       '355', '396', '81', '201', '54', '166', '238', '71', '287', '224',\n",
       "       '94', '32', '420', '64', '99', '115', '29', '30', '22', '33', '85',\n",
       "       '13', '43', '104', '40', '55', '46', '37', '19', '15', '25', '12',\n",
       "       '6', '38', '58', '9', '1', '14', '10', '31', '112', '41', '4', '7',\n",
       "       '5', '3', '2', '8'], dtype=object)"
      ]
     },
     "execution_count": 12,
     "metadata": {},
     "output_type": "execute_result"
    }
   ],
   "source": [
    "data.new_cases.unique()"
   ]
  },
  {
   "cell_type": "code",
   "execution_count": 13,
   "metadata": {},
   "outputs": [
    {
     "name": "stdout",
     "output_type": "stream",
     "text": [
      "Nan total :  94\n"
     ]
    }
   ],
   "source": [
    "sum_nan_columns(data.new_cases)"
   ]
  },
  {
   "cell_type": "code",
   "execution_count": 14,
   "metadata": {},
   "outputs": [],
   "source": [
    "data['new_cases'] = data['new_cases'].str.replace(',', '', regex=True)"
   ]
  },
  {
   "cell_type": "code",
   "execution_count": 15,
   "metadata": {},
   "outputs": [
    {
     "data": {
      "text/plain": [
       "array(['20154', '4226', '4204', '4799', '2227', '63', '1634', nan, '4056',\n",
       "       '1580', '766', '1213', '1252', '286', '815', '295', '39', '1459',\n",
       "       '351', '722', '737', '500', '118', '52', '426', '233', '370',\n",
       "       '155', '441', '515', '226', '109', '206', '337', '355', '396',\n",
       "       '81', '201', '54', '166', '238', '71', '287', '224', '94', '32',\n",
       "       '420', '64', '99', '115', '29', '30', '22', '33', '85', '13', '43',\n",
       "       '104', '40', '55', '46', '37', '19', '15', '25', '12', '6', '38',\n",
       "       '58', '9', '1', '14', '10', '31', '112', '41', '4', '7', '5', '3',\n",
       "       '2', '8'], dtype=object)"
      ]
     },
     "execution_count": 15,
     "metadata": {},
     "output_type": "execute_result"
    }
   ],
   "source": [
    "data.new_cases.unique()"
   ]
  },
  {
   "cell_type": "code",
   "execution_count": null,
   "metadata": {},
   "outputs": [],
   "source": []
  },
  {
   "cell_type": "markdown",
   "metadata": {},
   "source": [
    "## 3. total_deaths"
   ]
  },
  {
   "cell_type": "code",
   "execution_count": 16,
   "metadata": {},
   "outputs": [
    {
     "data": {
      "text/plain": [
       "array(['16,094', '15,238', '18,279', '12,210', '2,451', '3,335', '4,110',\n",
       "       '7,097', '908', '2,523', '948', '2,396', '503', '839', '409',\n",
       "       '295', '204', '76', '79', '793', '199', '263', '108', '51', '57',\n",
       "       '237', '174', '112', '246', '272', '94', '63', '121', '67', '203',\n",
       "       '280', '44', '52', '66', '12', '42', '32', '6', '118', '55', '87',\n",
       "       '18', '71', '235', '103', '16', '20', '97', '29', '1', '69', '24',\n",
       "       '43', '4', '9', '10', '5', '35', '7', '11', '2', '30', '25', '3',\n",
       "       '19', '15', '23', nan, '8', '21', '34'], dtype=object)"
      ]
     },
     "execution_count": 16,
     "metadata": {},
     "output_type": "execute_result"
    }
   ],
   "source": [
    "data.total_deaths.unique()"
   ]
  },
  {
   "cell_type": "code",
   "execution_count": 17,
   "metadata": {},
   "outputs": [],
   "source": [
    "data['total_deaths'] = data['total_deaths'].str.replace(',', '', regex=True)"
   ]
  },
  {
   "cell_type": "code",
   "execution_count": 18,
   "metadata": {},
   "outputs": [
    {
     "data": {
      "text/plain": [
       "array(['16094', '15238', '18279', '12210', '2451', '3335', '4110', '7097',\n",
       "       '908', '2523', '948', '2396', '503', '839', '409', '295', '204',\n",
       "       '76', '79', '793', '199', '263', '108', '51', '57', '237', '174',\n",
       "       '112', '246', '272', '94', '63', '121', '67', '203', '280', '44',\n",
       "       '52', '66', '12', '42', '32', '6', '118', '55', '87', '18', '71',\n",
       "       '235', '103', '16', '20', '97', '29', '1', '69', '24', '43', '4',\n",
       "       '9', '10', '5', '35', '7', '11', '2', '30', '25', '3', '19', '15',\n",
       "       '23', nan, '8', '21', '34'], dtype=object)"
      ]
     },
     "execution_count": 18,
     "metadata": {},
     "output_type": "execute_result"
    }
   ],
   "source": [
    "data.total_deaths.unique()"
   ]
  },
  {
   "cell_type": "code",
   "execution_count": null,
   "metadata": {},
   "outputs": [],
   "source": []
  },
  {
   "cell_type": "markdown",
   "metadata": {},
   "source": [
    "## 4. new_deaths"
   ]
  },
  {
   "cell_type": "code",
   "execution_count": 19,
   "metadata": {},
   "outputs": [
    {
     "data": {
      "text/plain": [
       "array(['1,306', '446', '610', '1,341', '102', '2', '117', nan, '96',\n",
       "       '283', '53', '148', '76', '19', '29', '22', '4', '13', '6', '106',\n",
       "       '21', '28', '7', '1', '9', '15', '26', '30', '40', '3', '33', '10',\n",
       "       '5', '8'], dtype=object)"
      ]
     },
     "execution_count": 19,
     "metadata": {},
     "output_type": "execute_result"
    }
   ],
   "source": [
    "data.new_deaths.unique()"
   ]
  },
  {
   "cell_type": "code",
   "execution_count": 20,
   "metadata": {},
   "outputs": [],
   "source": [
    "data['new_deaths'] = data['new_deaths'].str.replace(',', '', regex=True)"
   ]
  },
  {
   "cell_type": "code",
   "execution_count": 21,
   "metadata": {},
   "outputs": [
    {
     "data": {
      "text/plain": [
       "array(['1306', '446', '610', '1341', '102', '2', '117', nan, '96', '283',\n",
       "       '53', '148', '76', '19', '29', '22', '4', '13', '6', '106', '21',\n",
       "       '28', '7', '1', '9', '15', '26', '30', '40', '3', '33', '10', '5',\n",
       "       '8'], dtype=object)"
      ]
     },
     "execution_count": 21,
     "metadata": {},
     "output_type": "execute_result"
    }
   ],
   "source": [
    "data.new_deaths.unique()"
   ]
  },
  {
   "cell_type": "code",
   "execution_count": null,
   "metadata": {},
   "outputs": [],
   "source": []
  },
  {
   "cell_type": "markdown",
   "metadata": {},
   "source": [
    "## 5. recovered"
   ]
  },
  {
   "cell_type": "code",
   "execution_count": 22,
   "metadata": {},
   "outputs": [
    {
     "data": {
      "text/plain": [
       "array(['24,562', '52,165', '28,470', '23,206', '46,300', '77,370',\n",
       "       '32,309', '135', '2,142', '5,164', '10,600', '250', '5,196', '173',\n",
       "       '205', '5,240', '6,973', '698', '864', '602', '25', '32', '2,987',\n",
       "       '1,274', '1,736', '284', '301', '647', '339', '632', '572',\n",
       "       '1,333', '1,608', '124', '252', '666', '633', '374', '118', '239',\n",
       "       '300', '16', '940', '206', '80', '123', '269', '460', '45', '95',\n",
       "       '365', '347', '688', '305', '139', '219', '109', '50', '317',\n",
       "       '496', '83', '128', '96', '293', '8', '101', '138', '111', '495',\n",
       "       '60', '619', '23', '37', '48', '58', '67', '38', '53', '28', '29',\n",
       "       '192', '146', '165', '161', '40', '6', '33', '34', '35', '44', '2',\n",
       "       '4', '51', '11', '49', '92', '12', '22', '136', '9', '65', '43',\n",
       "       '18', '63', '7', '1', '10', '17', '5', '20', '55', '24', nan, '3',\n",
       "       '13'], dtype=object)"
      ]
     },
     "execution_count": 22,
     "metadata": {},
     "output_type": "execute_result"
    }
   ],
   "source": [
    "data.recovered.unique()"
   ]
  },
  {
   "cell_type": "code",
   "execution_count": 23,
   "metadata": {},
   "outputs": [],
   "source": [
    "data['recovered'] = data['recovered'].str.replace(',', '', regex=True)"
   ]
  },
  {
   "cell_type": "code",
   "execution_count": 24,
   "metadata": {},
   "outputs": [
    {
     "data": {
      "text/plain": [
       "array(['24562', '52165', '28470', '23206', '46300', '77370', '32309',\n",
       "       '135', '2142', '5164', '10600', '250', '5196', '173', '205',\n",
       "       '5240', '6973', '698', '864', '602', '25', '32', '2987', '1274',\n",
       "       '1736', '284', '301', '647', '339', '632', '572', '1333', '1608',\n",
       "       '124', '252', '666', '633', '374', '118', '239', '300', '16',\n",
       "       '940', '206', '80', '123', '269', '460', '45', '95', '365', '347',\n",
       "       '688', '305', '139', '219', '109', '50', '317', '496', '83', '128',\n",
       "       '96', '293', '8', '101', '138', '111', '495', '60', '619', '23',\n",
       "       '37', '48', '58', '67', '38', '53', '28', '29', '192', '146',\n",
       "       '165', '161', '40', '6', '33', '34', '35', '44', '2', '4', '51',\n",
       "       '11', '49', '92', '12', '22', '136', '9', '65', '43', '18', '63',\n",
       "       '7', '1', '10', '17', '5', '20', '55', '24', nan, '3', '13'],\n",
       "      dtype=object)"
      ]
     },
     "execution_count": 24,
     "metadata": {},
     "output_type": "execute_result"
    }
   ],
   "source": [
    "data.recovered.unique()"
   ]
  },
  {
   "cell_type": "code",
   "execution_count": null,
   "metadata": {},
   "outputs": [],
   "source": []
  },
  {
   "cell_type": "markdown",
   "metadata": {},
   "source": [
    "## 6. active"
   ]
  },
  {
   "cell_type": "code",
   "execution_count": 25,
   "metadata": {},
   "outputs": [
    {
     "data": {
      "text/plain": [
       "array(['414,425', '85,043', '96,877', '82,333', '66,772', '1,160',\n",
       "       '29,801', '53,501', '39,232', '17,296', '12,498', '19,116',\n",
       "       '14,991', '15,462', '13,342', '7,702', '3,246', '9,357', '8,812',\n",
       "       '8,143', '5,852', '6,286', '6,020', '3,066', '4,641', '3,662',\n",
       "       '5,117', '5,054', '4,309', '4,354', '3,941', '3,854', '2,888',\n",
       "       '2,553', '3,749', '2,761', '2,577', '2,374', '2,689', '2,683',\n",
       "       '2,408', '2,263', '2,449', '1,451', '2,164', '2,151', '1,876',\n",
       "       '1,599', '1,444', '1,790', '1,732', '1,359', '1,084', '954',\n",
       "       '1,152', '1,331', '1,168', '1,210', '921', '667', '1,100', '953',\n",
       "       '818', '677', '931', '816', '773', '798', '355', '714', '697',\n",
       "       '660', '82', '676', '596', '593', '546', '570', '500', '496',\n",
       "       '541', '501', '472', '470', '437', '345', '257', '273', '221',\n",
       "       '333', '295', '204', '322', '313', '314', '303', '319', '276',\n",
       "       '284', '229', '241', '226', '244', '218', '127', '246', '125',\n",
       "       '164', '183', '134', '97', '165', '160', '48', '153', '93', '98',\n",
       "       '90', '42', '110', '101', '63', '56', '103', '100', '88', '75',\n",
       "       '78', '40', '62', '22', '45', '46', '49', '52', '50', '53', '51',\n",
       "       '38', '35', '36', '28', '13', '31', '23', '32', '33', '24', '20',\n",
       "       '19', '12', '15', '17', '6', '16', '11', '14', '10', '5', '8', '9',\n",
       "       '0', '7', '4', '3', '1', '2'], dtype=object)"
      ]
     },
     "execution_count": 25,
     "metadata": {},
     "output_type": "execute_result"
    }
   ],
   "source": [
    "data.active.unique()"
   ]
  },
  {
   "cell_type": "code",
   "execution_count": 26,
   "metadata": {},
   "outputs": [],
   "source": [
    "data['active'] = data['active'].str.replace(',', '', regex=True)"
   ]
  },
  {
   "cell_type": "code",
   "execution_count": 27,
   "metadata": {},
   "outputs": [
    {
     "data": {
      "text/plain": [
       "array(['414425', '85043', '96877', '82333', '66772', '1160', '29801',\n",
       "       '53501', '39232', '17296', '12498', '19116', '14991', '15462',\n",
       "       '13342', '7702', '3246', '9357', '8812', '8143', '5852', '6286',\n",
       "       '6020', '3066', '4641', '3662', '5117', '5054', '4309', '4354',\n",
       "       '3941', '3854', '2888', '2553', '3749', '2761', '2577', '2374',\n",
       "       '2689', '2683', '2408', '2263', '2449', '1451', '2164', '2151',\n",
       "       '1876', '1599', '1444', '1790', '1732', '1359', '1084', '954',\n",
       "       '1152', '1331', '1168', '1210', '921', '667', '1100', '953', '818',\n",
       "       '677', '931', '816', '773', '798', '355', '714', '697', '660',\n",
       "       '82', '676', '596', '593', '546', '570', '500', '496', '541',\n",
       "       '501', '472', '470', '437', '345', '257', '273', '221', '333',\n",
       "       '295', '204', '322', '313', '314', '303', '319', '276', '284',\n",
       "       '229', '241', '226', '244', '218', '127', '246', '125', '164',\n",
       "       '183', '134', '97', '165', '160', '48', '153', '93', '98', '90',\n",
       "       '42', '110', '101', '63', '56', '103', '100', '88', '75', '78',\n",
       "       '40', '62', '22', '45', '46', '49', '52', '50', '53', '51', '38',\n",
       "       '35', '36', '28', '13', '31', '23', '32', '33', '24', '20', '19',\n",
       "       '12', '15', '17', '6', '16', '11', '14', '10', '5', '8', '9', '0',\n",
       "       '7', '4', '3', '1', '2'], dtype=object)"
      ]
     },
     "execution_count": 27,
     "metadata": {},
     "output_type": "execute_result"
    }
   ],
   "source": [
    "data.active.unique()"
   ]
  },
  {
   "cell_type": "code",
   "execution_count": 28,
   "metadata": {},
   "outputs": [
    {
     "name": "stdout",
     "output_type": "stream",
     "text": [
      "Nan total :  0\n"
     ]
    }
   ],
   "source": [
    "sum_nan_columns(data.active)"
   ]
  },
  {
   "cell_type": "code",
   "execution_count": null,
   "metadata": {},
   "outputs": [],
   "source": []
  },
  {
   "cell_type": "markdown",
   "metadata": {},
   "source": [
    "## 7. serious_critical"
   ]
  },
  {
   "cell_type": "code",
   "execution_count": 29,
   "metadata": {},
   "outputs": [
    {
     "data": {
      "text/plain": [
       "array(['9,733', '7,371', '3,605', '7,066', '4,895', '176', '3,918',\n",
       "       '1,559', '1,552', '1,285', '386', '1,424', '518', '296', '241',\n",
       "       '266', '55', '8', '165', '719', nan, '78', '81', '360', '120',\n",
       "       '160', '96', '178', '139', '99', '31', '113', '72', '1', '41',\n",
       "       '89', '30', '127', '82', '101', '61', '37', '147', '85', '79',\n",
       "       '29', '33', '7', '46', '11', '34', '80', '4', '9', '17', '14',\n",
       "       '21', '27', '22', '3', '10', '5', '15', '32', '13', '2', '6', '12',\n",
       "       '19'], dtype=object)"
      ]
     },
     "execution_count": 29,
     "metadata": {},
     "output_type": "execute_result"
    }
   ],
   "source": [
    "data.serious_critical.unique()"
   ]
  },
  {
   "cell_type": "code",
   "execution_count": 30,
   "metadata": {},
   "outputs": [],
   "source": [
    "data['serious_critical'] = data['serious_critical'].str.replace(',', '', regex=True)"
   ]
  },
  {
   "cell_type": "code",
   "execution_count": 31,
   "metadata": {},
   "outputs": [
    {
     "data": {
      "text/plain": [
       "array(['9733', '7371', '3605', '7066', '4895', '176', '3918', '1559',\n",
       "       '1552', '1285', '386', '1424', '518', '296', '241', '266', '55',\n",
       "       '8', '165', '719', nan, '78', '81', '360', '120', '160', '96',\n",
       "       '178', '139', '99', '31', '113', '72', '1', '41', '89', '30',\n",
       "       '127', '82', '101', '61', '37', '147', '85', '79', '29', '33', '7',\n",
       "       '46', '11', '34', '80', '4', '9', '17', '14', '21', '27', '22',\n",
       "       '3', '10', '5', '15', '32', '13', '2', '6', '12', '19'],\n",
       "      dtype=object)"
      ]
     },
     "execution_count": 31,
     "metadata": {},
     "output_type": "execute_result"
    }
   ],
   "source": [
    "data.serious_critical.unique()"
   ]
  },
  {
   "cell_type": "code",
   "execution_count": null,
   "metadata": {},
   "outputs": [],
   "source": []
  },
  {
   "cell_type": "markdown",
   "metadata": {},
   "source": [
    "## 8. tot_cases_1m_pop"
   ]
  },
  {
   "cell_type": "code",
   "execution_count": 32,
   "metadata": {},
   "outputs": [
    {
     "data": {
      "text/plain": [
       "array(['1,375', '3,261', '2,375', '1,804', '1,379', '57', '788', '895',\n",
       "       '501', '2,156', '2,778', '1,270', '548', '78', '1,369', '1,470',\n",
       "       '203', '69', '1,127', '905', '5', '1,331', '1,136', '239', '312',\n",
       "       '973', '147', '511', '270', '281', '37', '20', '132', '131', '12',\n",
       "       '94', '25', '4,976', '328', '269', '470', '586', '35', '825',\n",
       "       '217', '40', '188', '326', '43', '31', '38', '4,829', '15', '157',\n",
       "       '343', '320', '257', '910', '541', '101', '130', '351', '91',\n",
       "       '311', '213', '502', '259', '41', '27', nan, '128', '318', '54',\n",
       "       '89', '7,545', '85', '17', '467', '45', '99', '21', '142', '16',\n",
       "       '36', '404', '2,076', '14', '763', '2', '247', '10', '9,077', '1',\n",
       "       '23', '52', '3', '401', '55', '9', '2,234', '674', '3,766', '6',\n",
       "       '410', '352', '309', '137', '3,651', '7', '8', '2,141', '278',\n",
       "       '768', '2,046', '4', '219', '11', '0.5', '182', '685', '1,003',\n",
       "       '102', '626', '47', '18', '828', '0.4', '0.6', '194', '13', '63',\n",
       "       '0.3', '208', '76', '0.8', '107', '0.7', '207', '112', '1,803',\n",
       "       '9,988', '72', '0.9', '607', '1,437', '200', '0.2', '173'],\n",
       "      dtype=object)"
      ]
     },
     "execution_count": 32,
     "metadata": {},
     "output_type": "execute_result"
    }
   ],
   "source": [
    "data.tot_cases_1m_pop.unique()"
   ]
  },
  {
   "cell_type": "code",
   "execution_count": 33,
   "metadata": {},
   "outputs": [],
   "source": [
    "data['tot_cases_1m_pop'] = data['tot_cases_1m_pop'].str.replace(',', '', regex=True)"
   ]
  },
  {
   "cell_type": "code",
   "execution_count": 34,
   "metadata": {},
   "outputs": [
    {
     "data": {
      "text/plain": [
       "array(['1375', '3261', '2375', '1804', '1379', '57', '788', '895', '501',\n",
       "       '2156', '2778', '1270', '548', '78', '1369', '1470', '203', '69',\n",
       "       '1127', '905', '5', '1331', '1136', '239', '312', '973', '147',\n",
       "       '511', '270', '281', '37', '20', '132', '131', '12', '94', '25',\n",
       "       '4976', '328', '269', '470', '586', '35', '825', '217', '40',\n",
       "       '188', '326', '43', '31', '38', '4829', '15', '157', '343', '320',\n",
       "       '257', '910', '541', '101', '130', '351', '91', '311', '213',\n",
       "       '502', '259', '41', '27', nan, '128', '318', '54', '89', '7545',\n",
       "       '85', '17', '467', '45', '99', '21', '142', '16', '36', '404',\n",
       "       '2076', '14', '763', '2', '247', '10', '9077', '1', '23', '52',\n",
       "       '3', '401', '55', '9', '2234', '674', '3766', '6', '410', '352',\n",
       "       '309', '137', '3651', '7', '8', '2141', '278', '768', '2046', '4',\n",
       "       '219', '11', '0.5', '182', '685', '1003', '102', '626', '47', '18',\n",
       "       '828', '0.4', '0.6', '194', '13', '63', '0.3', '208', '76', '0.8',\n",
       "       '107', '0.7', '207', '112', '1803', '9988', '72', '0.9', '607',\n",
       "       '1437', '200', '0.2', '173'], dtype=object)"
      ]
     },
     "execution_count": 34,
     "metadata": {},
     "output_type": "execute_result"
    }
   ],
   "source": [
    "data.tot_cases_1m_pop.unique()"
   ]
  },
  {
   "cell_type": "code",
   "execution_count": null,
   "metadata": {},
   "outputs": [],
   "source": []
  },
  {
   "cell_type": "markdown",
   "metadata": {},
   "source": [
    "## 9. deaths_1_m_pop"
   ]
  },
  {
   "cell_type": "code",
   "execution_count": 35,
   "metadata": {},
   "outputs": [
    {
     "data": {
      "text/plain": [
       "array(['49', '326', '302', '187', '29', '2', '105', '11', '218', '110',\n",
       "       '140', '13', '4', '40', '33', '0.5', '9', '79', '0.1', '53', '20',\n",
       "       '3', '41', '5', '10', '15', '0.7', '0.3', '1', '83', '8', '18',\n",
       "       '7', '0.2', '21', '6', '0.9', '0.4', nan, '14', '324', '0.09',\n",
       "       '0.6', '46', '1,002', '0.03', '0.8', '12', '16', '25', '26',\n",
       "       '0.02', '48', '0.05', '52', '0.08', '0.06'], dtype=object)"
      ]
     },
     "execution_count": 35,
     "metadata": {},
     "output_type": "execute_result"
    }
   ],
   "source": [
    "data.deaths_1_m_pop.unique()"
   ]
  },
  {
   "cell_type": "code",
   "execution_count": 36,
   "metadata": {},
   "outputs": [],
   "source": [
    "data['deaths_1_m_pop'] = data['deaths_1_m_pop'].str.replace(',', '', regex=True)"
   ]
  },
  {
   "cell_type": "code",
   "execution_count": 37,
   "metadata": {},
   "outputs": [
    {
     "data": {
      "text/plain": [
       "array(['49', '326', '302', '187', '29', '2', '105', '11', '218', '110',\n",
       "       '140', '13', '4', '40', '33', '0.5', '9', '79', '0.1', '53', '20',\n",
       "       '3', '41', '5', '10', '15', '0.7', '0.3', '1', '83', '8', '18',\n",
       "       '7', '0.2', '21', '6', '0.9', '0.4', nan, '14', '324', '0.09',\n",
       "       '0.6', '46', '1002', '0.03', '0.8', '12', '16', '25', '26', '0.02',\n",
       "       '48', '0.05', '52', '0.08', '0.06'], dtype=object)"
      ]
     },
     "execution_count": 37,
     "metadata": {},
     "output_type": "execute_result"
    }
   ],
   "source": [
    "data.deaths_1_m_pop.unique()"
   ]
  },
  {
   "cell_type": "code",
   "execution_count": null,
   "metadata": {},
   "outputs": [],
   "source": []
  },
  {
   "cell_type": "markdown",
   "metadata": {},
   "source": [
    "## 10. tests"
   ]
  },
  {
   "cell_type": "code",
   "execution_count": 38,
   "metadata": {},
   "outputs": [
    {
     "data": {
      "text/plain": [
       "array(['2,309,531', '355,000', '853,369', '224,254', '1,317,887', nan,\n",
       "       '231,393', '282,074', '276,338', '84,248', '178,500', '101,534',\n",
       "       '370,315', '63,000', '140,368', '126,287', '477,304', '1,004,719',\n",
       "       '117,339', '54,700', '167,235', '42,484', '121,034', '330,134',\n",
       "       '68,353', '64,002', '107,597', '106,845', '51,802', '19,102',\n",
       "       '61,498', '44,896', '39,599', '63,367', '24,500', '14,354',\n",
       "       '25,410', '27,521', '12,347', '593,095', '39,000', '11,776',\n",
       "       '71,860', '43,144', '4,542', '33,575', '33,634', '65,000',\n",
       "       '20,608', '63,776', '14,850', '3,359', '32,663', '25,000',\n",
       "       '49,000', '13,680', '6,116', '5,108', '51,165', '30,466', '26,416',\n",
       "       '31,813', '27,826', '96,709', '32,809', '57,371', '5,823',\n",
       "       '54,708', '6,911', '59,371', '21,371', '6,571', '9,570', '15,899',\n",
       "       '25,458', '1,673', '12,524', '70,000', '14,273', '9,410', '6,035',\n",
       "       '6,175', '3,223', '42,315', '17,000', '1,157', '4,199', '13,732',\n",
       "       '4,913', '722', '9,618', '5,000', '591', '16,068', '114,241',\n",
       "       '2,329', '3,271', '3,248', '1,879', '5,278', '1,100', '5,299',\n",
       "       '1,779', '8,985', '3,106', '2,039', '1,511', '5,768', '806', '987',\n",
       "       '1,134', '1,008', '900', '1,747', '907', '655', '2,790', '3,310',\n",
       "       '744', '479', '112', '315', '1,239', '145', '1,500', '257',\n",
       "       '1,246', '374', '40', '854', '2,320', '483', '903', '362', '293',\n",
       "       '1,154', '45', '371', '770', '183', '364', '2,366', '36', '61',\n",
       "       '56', '67', '1,166', '137', '19', '10', '72'], dtype=object)"
      ]
     },
     "execution_count": 38,
     "metadata": {},
     "output_type": "execute_result"
    }
   ],
   "source": [
    "data.tests.unique()"
   ]
  },
  {
   "cell_type": "code",
   "execution_count": 39,
   "metadata": {},
   "outputs": [],
   "source": [
    "data['tests'] = data['tests'].str.replace(',', '', regex=True)"
   ]
  },
  {
   "cell_type": "code",
   "execution_count": 40,
   "metadata": {},
   "outputs": [
    {
     "data": {
      "text/plain": [
       "array(['2309531', '355000', '853369', '224254', '1317887', nan, '231393',\n",
       "       '282074', '276338', '84248', '178500', '101534', '370315', '63000',\n",
       "       '140368', '126287', '477304', '1004719', '117339', '54700',\n",
       "       '167235', '42484', '121034', '330134', '68353', '64002', '107597',\n",
       "       '106845', '51802', '19102', '61498', '44896', '39599', '63367',\n",
       "       '24500', '14354', '25410', '27521', '12347', '593095', '39000',\n",
       "       '11776', '71860', '43144', '4542', '33575', '33634', '65000',\n",
       "       '20608', '63776', '14850', '3359', '32663', '25000', '49000',\n",
       "       '13680', '6116', '5108', '51165', '30466', '26416', '31813',\n",
       "       '27826', '96709', '32809', '57371', '5823', '54708', '6911',\n",
       "       '59371', '21371', '6571', '9570', '15899', '25458', '1673',\n",
       "       '12524', '70000', '14273', '9410', '6035', '6175', '3223', '42315',\n",
       "       '17000', '1157', '4199', '13732', '4913', '722', '9618', '5000',\n",
       "       '591', '16068', '114241', '2329', '3271', '3248', '1879', '5278',\n",
       "       '1100', '5299', '1779', '8985', '3106', '2039', '1511', '5768',\n",
       "       '806', '987', '1134', '1008', '900', '1747', '907', '655', '2790',\n",
       "       '3310', '744', '479', '112', '315', '1239', '145', '1500', '257',\n",
       "       '1246', '374', '40', '854', '2320', '483', '903', '362', '293',\n",
       "       '1154', '45', '371', '770', '183', '364', '2366', '36', '61', '56',\n",
       "       '67', '1166', '137', '19', '10', '72'], dtype=object)"
      ]
     },
     "execution_count": 40,
     "metadata": {},
     "output_type": "execute_result"
    }
   ],
   "source": [
    "data.tests.unique()"
   ]
  },
  {
   "cell_type": "code",
   "execution_count": null,
   "metadata": {},
   "outputs": [],
   "source": []
  },
  {
   "cell_type": "markdown",
   "metadata": {},
   "source": [
    "## 11. tests_1mpop"
   ]
  },
  {
   "cell_type": "code",
   "execution_count": 41,
   "metadata": {},
   "outputs": [
    {
     "data": {
      "text/plain": [
       "array(['6,977', '7,593', '14,114', '3,436', '15,730', nan, '2,755',\n",
       "       '4,155', '3,277', '7,269', '20,625', '5,926', '9,812', '296',\n",
       "       '13,766', '14,022', '9,310', '6,885', '13,557', '5,416', '121',\n",
       "       '8,604', '22,326', '12,946', '3,576', '11,050', '2,843', '9,977',\n",
       "       '2,693', '1,083', '486', '203', '1,201', '1,958', '224', '52',\n",
       "       '197', '43,965', '1,413', '59,967', '7,039', '2,729', '1,030',\n",
       "       '14,975', '419', '660', '3,227', '11,110', '471', '1,075', '329',\n",
       "       '77', '95,718', '244', '5,186', '3,332', '166', '1,266', '10,610',\n",
       "       '757', '19,914', '15,303', '2,880', '12,900', '12,052', '5,658',\n",
       "       '1,965', '32,151', '2,106', '3,162', '3,914', '3,154', '810',\n",
       "       '2,288', '13,497', '21,653', '1,835', '2,091', '11,822', '831',\n",
       "       '1,185', '1,778', '1,120', '1,777', '1,666', '6,655', '173',\n",
       "       '31,100', '37', '3,863', '21,278', '1,474', '24', '51', '3,150',\n",
       "       '1,174', '3,708', '820', '152', '22,097', '98', '4,032', '108,446',\n",
       "       '63', '20,538', '3,144', '286', '44,849', '345', '62', '705',\n",
       "       '9,441', '23,605', '211', '306', '2,279', '72', '2,649', '7,288',\n",
       "       '2,612', '5,058', '67', '184', '762', '23', '54', '408', '609',\n",
       "       '8,126', '15', '124', '142', '4,070', '491', '400', '25', '13,564',\n",
       "       '3,440', '915', '81', '7,212', '1,576', '505', '14', '1,511',\n",
       "       '39,368', '87', '381', '8'], dtype=object)"
      ]
     },
     "execution_count": 41,
     "metadata": {},
     "output_type": "execute_result"
    }
   ],
   "source": [
    "data.tests_1mpop.unique()"
   ]
  },
  {
   "cell_type": "code",
   "execution_count": 42,
   "metadata": {},
   "outputs": [],
   "source": [
    "data['tests_1mpop'] = data['tests_1mpop'].str.replace(',', '', regex=True)"
   ]
  },
  {
   "cell_type": "code",
   "execution_count": 43,
   "metadata": {},
   "outputs": [
    {
     "data": {
      "text/plain": [
       "array(['6977', '7593', '14114', '3436', '15730', nan, '2755', '4155',\n",
       "       '3277', '7269', '20625', '5926', '9812', '296', '13766', '14022',\n",
       "       '9310', '6885', '13557', '5416', '121', '8604', '22326', '12946',\n",
       "       '3576', '11050', '2843', '9977', '2693', '1083', '486', '203',\n",
       "       '1201', '1958', '224', '52', '197', '43965', '1413', '59967',\n",
       "       '7039', '2729', '1030', '14975', '419', '660', '3227', '11110',\n",
       "       '471', '1075', '329', '77', '95718', '244', '5186', '3332', '166',\n",
       "       '1266', '10610', '757', '19914', '15303', '2880', '12900', '12052',\n",
       "       '5658', '1965', '32151', '2106', '3162', '3914', '3154', '810',\n",
       "       '2288', '13497', '21653', '1835', '2091', '11822', '831', '1185',\n",
       "       '1778', '1120', '1777', '1666', '6655', '173', '31100', '37',\n",
       "       '3863', '21278', '1474', '24', '51', '3150', '1174', '3708', '820',\n",
       "       '152', '22097', '98', '4032', '108446', '63', '20538', '3144',\n",
       "       '286', '44849', '345', '62', '705', '9441', '23605', '211', '306',\n",
       "       '2279', '72', '2649', '7288', '2612', '5058', '67', '184', '762',\n",
       "       '23', '54', '408', '609', '8126', '15', '124', '142', '4070',\n",
       "       '491', '400', '25', '13564', '3440', '915', '81', '7212', '1576',\n",
       "       '505', '14', '1511', '39368', '87', '381', '8'], dtype=object)"
      ]
     },
     "execution_count": 43,
     "metadata": {},
     "output_type": "execute_result"
    }
   ],
   "source": [
    "data.tests_1mpop.unique()"
   ]
  },
  {
   "cell_type": "code",
   "execution_count": 44,
   "metadata": {},
   "outputs": [
    {
     "data": {
      "text/plain": [
       "Index(['country', 'total_cases', 'new_cases', 'total_deaths', 'new_deaths',\n",
       "       'recovered', 'active', 'serious_critical', 'tot_cases_1m_pop',\n",
       "       'deaths_1_m_pop', 'tests', 'tests_1mpop'],\n",
       "      dtype='object')"
      ]
     },
     "execution_count": 44,
     "metadata": {},
     "output_type": "execute_result"
    }
   ],
   "source": [
    "data.columns"
   ]
  },
  {
   "cell_type": "code",
   "execution_count": 45,
   "metadata": {},
   "outputs": [],
   "source": [
    "data = data.fillna(0)"
   ]
  },
  {
   "cell_type": "code",
   "execution_count": 46,
   "metadata": {},
   "outputs": [],
   "source": [
    "data['total_cases'] = data['total_cases'].astype(np.float16)\n",
    "data['new_cases'] = data['new_cases'].astype(np.float16)\n",
    "data['total_deaths'] = data['total_deaths'].astype(np.float16)\n",
    "data['new_deaths'] = data['new_deaths'].astype(np.float16)\n",
    "data['recovered'] = data['recovered'].astype(np.float16)\n",
    "data['active'] = data['active'].astype(np.float16)\n",
    "data['serious_critical'] = data['serious_critical'].astype(np.float16)\n",
    "data['tot_cases_1m_pop'] = data['tot_cases_1m_pop'].astype(np.float16)\n",
    "data['deaths_1_m_pop'] = data['deaths_1_m_pop'].astype(np.float16)\n",
    "data['tests'] = data['tests'].astype(np.float16)\n",
    "data['tests_1mpop'] = data['tests_1mpop'].astype(np.float16)"
   ]
  },
  {
   "cell_type": "code",
   "execution_count": 47,
   "metadata": {},
   "outputs": [
    {
     "name": "stdout",
     "output_type": "stream",
     "text": [
      "<class 'pandas.core.frame.DataFrame'>\n",
      "RangeIndex: 211 entries, 0 to 210\n",
      "Data columns (total 12 columns):\n",
      " #   Column            Non-Null Count  Dtype  \n",
      "---  ------            --------------  -----  \n",
      " 0   country           211 non-null    object \n",
      " 1   total_cases       211 non-null    float16\n",
      " 2   new_cases         211 non-null    float16\n",
      " 3   total_deaths      211 non-null    float16\n",
      " 4   new_deaths        211 non-null    float16\n",
      " 5   recovered         211 non-null    float16\n",
      " 6   active            211 non-null    float16\n",
      " 7   serious_critical  211 non-null    float16\n",
      " 8   tot_cases_1m_pop  211 non-null    float16\n",
      " 9   deaths_1_m_pop    211 non-null    float16\n",
      " 10  tests             211 non-null    float16\n",
      " 11  tests_1mpop       211 non-null    float16\n",
      "dtypes: float16(11), object(1)\n",
      "memory usage: 6.3+ KB\n"
     ]
    }
   ],
   "source": [
    "data.info()"
   ]
  },
  {
   "cell_type": "code",
   "execution_count": 48,
   "metadata": {},
   "outputs": [
    {
     "name": "stderr",
     "output_type": "stream",
     "text": [
      "/home/rindralilie/.local/lib/python3.8/site-packages/numpy/core/_methods.py:47: RuntimeWarning: overflow encountered in reduce\n",
      "  return umr_sum(a, axis, dtype, out, keepdims, initial, where)\n"
     ]
    }
   ],
   "source": [
    "sums = data.sum()"
   ]
  },
  {
   "cell_type": "code",
   "execution_count": 49,
   "metadata": {},
   "outputs": [
    {
     "data": {
      "text/plain": [
       "country             USASpainItalyFranceGermanyChinaIranUKTurkeyBel...\n",
       "total_cases                                                       inf\n",
       "new_cases                                                     59040.0\n",
       "total_deaths                                                      inf\n",
       "new_deaths                                                     5160.0\n",
       "recovered                                                         inf\n",
       "active                                                            inf\n",
       "serious_critical                                              48864.0\n",
       "tot_cases_1m_pop                                                  inf\n",
       "deaths_1_m_pop                                                 4054.0\n",
       "tests                                                             inf\n",
       "tests_1mpop                                                       inf\n",
       "dtype: object"
      ]
     },
     "execution_count": 49,
     "metadata": {},
     "output_type": "execute_result"
    }
   ],
   "source": [
    "sums"
   ]
  },
  {
   "cell_type": "code",
   "execution_count": 54,
   "metadata": {},
   "outputs": [
    {
     "name": "stdout",
     "output_type": "stream",
     "text": [
      "Empty DataFrame\n",
      "Columns: [country, total_cases, new_cases, total_deaths, new_deaths, recovered, active, serious_critical, tot_cases_1m_pop, deaths_1_m_pop, tests, tests_1mpop]\n",
      "Index: []\n"
     ]
    }
   ],
   "source": [
    "print(data[data['total_cases'].isnull()])\n"
   ]
  },
  {
   "cell_type": "code",
   "execution_count": 55,
   "metadata": {},
   "outputs": [
    {
     "data": {
      "text/html": [
       "<div>\n",
       "<style scoped>\n",
       "    .dataframe tbody tr th:only-of-type {\n",
       "        vertical-align: middle;\n",
       "    }\n",
       "\n",
       "    .dataframe tbody tr th {\n",
       "        vertical-align: top;\n",
       "    }\n",
       "\n",
       "    .dataframe thead th {\n",
       "        text-align: right;\n",
       "    }\n",
       "</style>\n",
       "<table border=\"1\" class=\"dataframe\">\n",
       "  <thead>\n",
       "    <tr style=\"text-align: right;\">\n",
       "      <th></th>\n",
       "      <th>country</th>\n",
       "      <th>total_cases</th>\n",
       "      <th>new_cases</th>\n",
       "      <th>total_deaths</th>\n",
       "      <th>new_deaths</th>\n",
       "      <th>recovered</th>\n",
       "      <th>active</th>\n",
       "      <th>serious_critical</th>\n",
       "      <th>tot_cases_1m_pop</th>\n",
       "      <th>deaths_1_m_pop</th>\n",
       "      <th>tests</th>\n",
       "      <th>tests_1mpop</th>\n",
       "    </tr>\n",
       "  </thead>\n",
       "  <tbody>\n",
       "    <tr>\n",
       "      <th>0</th>\n",
       "      <td>USA</td>\n",
       "      <td>inf</td>\n",
       "      <td>20160.0</td>\n",
       "      <td>16096.0</td>\n",
       "      <td>1306.0</td>\n",
       "      <td>24560.0</td>\n",
       "      <td>inf</td>\n",
       "      <td>9736.0</td>\n",
       "      <td>1375.000000</td>\n",
       "      <td>49.0</td>\n",
       "      <td>inf</td>\n",
       "      <td>6976.0</td>\n",
       "    </tr>\n",
       "    <tr>\n",
       "      <th>1</th>\n",
       "      <td>Spain</td>\n",
       "      <td>inf</td>\n",
       "      <td>4224.0</td>\n",
       "      <td>15240.0</td>\n",
       "      <td>446.0</td>\n",
       "      <td>52160.0</td>\n",
       "      <td>inf</td>\n",
       "      <td>7372.0</td>\n",
       "      <td>3260.000000</td>\n",
       "      <td>326.0</td>\n",
       "      <td>inf</td>\n",
       "      <td>7592.0</td>\n",
       "    </tr>\n",
       "    <tr>\n",
       "      <th>2</th>\n",
       "      <td>Italy</td>\n",
       "      <td>inf</td>\n",
       "      <td>4204.0</td>\n",
       "      <td>18272.0</td>\n",
       "      <td>610.0</td>\n",
       "      <td>28464.0</td>\n",
       "      <td>inf</td>\n",
       "      <td>3604.0</td>\n",
       "      <td>2376.000000</td>\n",
       "      <td>302.0</td>\n",
       "      <td>inf</td>\n",
       "      <td>14112.0</td>\n",
       "    </tr>\n",
       "    <tr>\n",
       "      <th>3</th>\n",
       "      <td>France</td>\n",
       "      <td>inf</td>\n",
       "      <td>4800.0</td>\n",
       "      <td>12208.0</td>\n",
       "      <td>1341.0</td>\n",
       "      <td>23200.0</td>\n",
       "      <td>inf</td>\n",
       "      <td>7064.0</td>\n",
       "      <td>1804.000000</td>\n",
       "      <td>187.0</td>\n",
       "      <td>inf</td>\n",
       "      <td>3436.0</td>\n",
       "    </tr>\n",
       "    <tr>\n",
       "      <th>4</th>\n",
       "      <td>Germany</td>\n",
       "      <td>inf</td>\n",
       "      <td>2228.0</td>\n",
       "      <td>2452.0</td>\n",
       "      <td>102.0</td>\n",
       "      <td>46304.0</td>\n",
       "      <td>inf</td>\n",
       "      <td>4896.0</td>\n",
       "      <td>1379.000000</td>\n",
       "      <td>29.0</td>\n",
       "      <td>inf</td>\n",
       "      <td>15728.0</td>\n",
       "    </tr>\n",
       "    <tr>\n",
       "      <th>...</th>\n",
       "      <td>...</td>\n",
       "      <td>...</td>\n",
       "      <td>...</td>\n",
       "      <td>...</td>\n",
       "      <td>...</td>\n",
       "      <td>...</td>\n",
       "      <td>...</td>\n",
       "      <td>...</td>\n",
       "      <td>...</td>\n",
       "      <td>...</td>\n",
       "      <td>...</td>\n",
       "      <td>...</td>\n",
       "    </tr>\n",
       "    <tr>\n",
       "      <th>206</th>\n",
       "      <td>South Sudan</td>\n",
       "      <td>3.0</td>\n",
       "      <td>1.0</td>\n",
       "      <td>0.0</td>\n",
       "      <td>0.0</td>\n",
       "      <td>0.0</td>\n",
       "      <td>3.0</td>\n",
       "      <td>0.0</td>\n",
       "      <td>0.300049</td>\n",
       "      <td>0.0</td>\n",
       "      <td>0.0</td>\n",
       "      <td>0.0</td>\n",
       "    </tr>\n",
       "    <tr>\n",
       "      <th>207</th>\n",
       "      <td>Caribbean Netherlands</td>\n",
       "      <td>2.0</td>\n",
       "      <td>0.0</td>\n",
       "      <td>0.0</td>\n",
       "      <td>0.0</td>\n",
       "      <td>0.0</td>\n",
       "      <td>2.0</td>\n",
       "      <td>0.0</td>\n",
       "      <td>76.000000</td>\n",
       "      <td>0.0</td>\n",
       "      <td>10.0</td>\n",
       "      <td>381.0</td>\n",
       "    </tr>\n",
       "    <tr>\n",
       "      <th>208</th>\n",
       "      <td>Papua New Guinea</td>\n",
       "      <td>2.0</td>\n",
       "      <td>0.0</td>\n",
       "      <td>0.0</td>\n",
       "      <td>0.0</td>\n",
       "      <td>0.0</td>\n",
       "      <td>2.0</td>\n",
       "      <td>0.0</td>\n",
       "      <td>0.199951</td>\n",
       "      <td>0.0</td>\n",
       "      <td>72.0</td>\n",
       "      <td>8.0</td>\n",
       "    </tr>\n",
       "    <tr>\n",
       "      <th>209</th>\n",
       "      <td>Saint Pierre Miquelon</td>\n",
       "      <td>1.0</td>\n",
       "      <td>0.0</td>\n",
       "      <td>0.0</td>\n",
       "      <td>0.0</td>\n",
       "      <td>0.0</td>\n",
       "      <td>1.0</td>\n",
       "      <td>0.0</td>\n",
       "      <td>173.000000</td>\n",
       "      <td>0.0</td>\n",
       "      <td>0.0</td>\n",
       "      <td>0.0</td>\n",
       "    </tr>\n",
       "    <tr>\n",
       "      <th>210</th>\n",
       "      <td>Timor-Leste</td>\n",
       "      <td>1.0</td>\n",
       "      <td>0.0</td>\n",
       "      <td>0.0</td>\n",
       "      <td>0.0</td>\n",
       "      <td>0.0</td>\n",
       "      <td>1.0</td>\n",
       "      <td>0.0</td>\n",
       "      <td>0.799805</td>\n",
       "      <td>0.0</td>\n",
       "      <td>0.0</td>\n",
       "      <td>0.0</td>\n",
       "    </tr>\n",
       "  </tbody>\n",
       "</table>\n",
       "<p>211 rows × 12 columns</p>\n",
       "</div>"
      ],
      "text/plain": [
       "                   country  total_cases  new_cases  total_deaths  new_deaths  \\\n",
       "0                      USA          inf    20160.0       16096.0      1306.0   \n",
       "1                    Spain          inf     4224.0       15240.0       446.0   \n",
       "2                    Italy          inf     4204.0       18272.0       610.0   \n",
       "3                   France          inf     4800.0       12208.0      1341.0   \n",
       "4                  Germany          inf     2228.0        2452.0       102.0   \n",
       "..                     ...          ...        ...           ...         ...   \n",
       "206            South Sudan          3.0        1.0           0.0         0.0   \n",
       "207  Caribbean Netherlands          2.0        0.0           0.0         0.0   \n",
       "208       Papua New Guinea          2.0        0.0           0.0         0.0   \n",
       "209  Saint Pierre Miquelon          1.0        0.0           0.0         0.0   \n",
       "210            Timor-Leste          1.0        0.0           0.0         0.0   \n",
       "\n",
       "     recovered  active  serious_critical  tot_cases_1m_pop  deaths_1_m_pop  \\\n",
       "0      24560.0     inf            9736.0       1375.000000            49.0   \n",
       "1      52160.0     inf            7372.0       3260.000000           326.0   \n",
       "2      28464.0     inf            3604.0       2376.000000           302.0   \n",
       "3      23200.0     inf            7064.0       1804.000000           187.0   \n",
       "4      46304.0     inf            4896.0       1379.000000            29.0   \n",
       "..         ...     ...               ...               ...             ...   \n",
       "206        0.0     3.0               0.0          0.300049             0.0   \n",
       "207        0.0     2.0               0.0         76.000000             0.0   \n",
       "208        0.0     2.0               0.0          0.199951             0.0   \n",
       "209        0.0     1.0               0.0        173.000000             0.0   \n",
       "210        0.0     1.0               0.0          0.799805             0.0   \n",
       "\n",
       "     tests  tests_1mpop  \n",
       "0      inf       6976.0  \n",
       "1      inf       7592.0  \n",
       "2      inf      14112.0  \n",
       "3      inf       3436.0  \n",
       "4      inf      15728.0  \n",
       "..     ...          ...  \n",
       "206    0.0          0.0  \n",
       "207   10.0        381.0  \n",
       "208   72.0          8.0  \n",
       "209    0.0          0.0  \n",
       "210    0.0          0.0  \n",
       "\n",
       "[211 rows x 12 columns]"
      ]
     },
     "execution_count": 55,
     "metadata": {},
     "output_type": "execute_result"
    }
   ],
   "source": [
    "data"
   ]
  },
  {
   "cell_type": "code",
   "execution_count": null,
   "metadata": {},
   "outputs": [],
   "source": []
  }
 ],
 "metadata": {
  "kernelspec": {
   "display_name": "Python 3",
   "language": "python",
   "name": "python3"
  },
  "language_info": {
   "codemirror_mode": {
    "name": "ipython",
    "version": 3
   },
   "file_extension": ".py",
   "mimetype": "text/x-python",
   "name": "python",
   "nbconvert_exporter": "python",
   "pygments_lexer": "ipython3",
   "version": "3.8.10"
  }
 },
 "nbformat": 4,
 "nbformat_minor": 4
}
